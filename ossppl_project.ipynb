{
  "nbformat": 4,
  "nbformat_minor": 0,
  "metadata": {
    "colab": {
      "name": "ossppl_project_template.ipynb",
      "provenance": [],
      "collapsed_sections": [
        "NUD-hySm_uPc"
      ],
      "toc_visible": true
    },
    "kernelspec": {
      "name": "python3",
      "display_name": "Python 3"
    }
  },
  "cells": [
    {
      "cell_type": "markdown",
      "metadata": {
        "id": "NUD-hySm_uPc"
      },
      "source": [
        "# **Open Source SW and Python Programming Project: Implementation of Subway Navigation**\n",
        "\n",
        "In this project, you will implement a navigation system for Seoul subway stations, especially **step by step**\n",
        "\n",
        "\n"
      ]
    },
    {
      "cell_type": "markdown",
      "metadata": {
        "id": "uUsnepoeAhVl"
      },
      "source": [
        "# 0. Initialization\n",
        "\n",
        "Read subway station information by reading the file **simplified_subway_info_english.xlsx** or **simplified_subway_info_korean.xlsx**\n",
        "*  The excel file contains subway station information of Seoul subway line 1 ~ 4\n",
        "*  When you execute this sourcecode, you MUST upload these files in your Colab runtime environment\n",
        "*   **MUST NOT** change this code cell"
      ]
    },
    {
      "cell_type": "code",
      "metadata": {
        "id": "qnbOlA6o_mIl"
      },
      "source": [
        "import xlrd\n",
        "\n",
        "# Read data file\n",
        "data = xlrd.open_workbook(\"simplified_subway_info_korean.xlsx\")\n",
        "data = data.sheet_by_name('Sheet1')\n",
        "\n",
        "# Store the loaded book object as a string list in subwayStation variable\n",
        "subwayStation = []\n",
        "for line in range(4) :\n",
        "    cur = [x for x in data.col_values(line) if x]    \n",
        "    subwayStation.append(cur[1:])"
      ],
      "execution_count": 68,
      "outputs": []
    },
    {
      "cell_type": "markdown",
      "metadata": {
        "id": "DBXU61Tn_vKS"
      },
      "source": [
        "# 1. Your implementation\n",
        "Let's start the implementation of a subway naviation system by using the loaded subway station information :)\n",
        "\n",
        "*   You can access the subway station information by referring to **subwayStation** variable (list type)"
      ]
    },
    {
      "cell_type": "code",
      "metadata": {
        "id": "-m5K2Ds-P2mr",
        "outputId": "5f121e1f-49e0-40cb-e7fc-8aeb5f6f4553",
        "colab": {
          "base_uri": "https://localhost:8080/"
        }
      },
      "source": [
        "subwayStation = {'Line1':tuple((subwayStation[0])),'Line2':tuple((subwayStation[1])),'Line3':tuple((subwayStation[2])),'Line4':tuple((subwayStation[3]))}\n",
        "for key in subwayStation.keys() :\n",
        "    print(key)\n",
        "for value in subwayStation.values() :\n",
        "    print(value)"
      ],
      "execution_count": 69,
      "outputs": [
        {
          "output_type": "stream",
          "text": [
            "Line1\n",
            "Line2\n",
            "Line3\n",
            "Line4\n",
            "('소요산', '동두천', '보산', '동두천중앙', '지행', '덕정', '덕계', '양주', '녹양', '가능', '의정부', '회룡', '망월사', '도봉산', '도봉', '방학', '창동', '녹천', '월계', '광운대', '석계', '신이문', '외대앞', '회기', '청량리', '제기동', '신설동', '동묘앞', '동대문', '종로5가', '종로3가', '종각', '시청', '서울역', '남영', '용산', '노량진', '대방', '신길', '영등포', '신도림', '구로', '구일', '개봉', '오류동', '온수', '역곡', '소사', '부천', '중동', '송내', '부개', '부평', '백운', '동암', '간석', '주안', '도화', '제물포', '도원', '동인천', '인천')\n",
            "('신도림', '대림', '구로디지털단지', '신대방', '신림', '봉천', '서울대입구', '낙성대', '사당', '방배', '서초', '교대', '강남', '역삼', '선릉', '삼성', '종합운동장', '잠실새내', '잠실', '잠실나루', '강변', '구의', '건대입구', '성수', '뚝섬', '한양대', '왕십리', '상왕십리', '신당', '동대문역사문화공원', '을지로4가', '을지로3가', '을지로입구', '시청', '충정로', '아현', '이대', '신촌', '홍대입구', '합정', '당산', '영등포구청', '문래')\n",
            "('대화', '주엽', '정발산', '마두', '백석', '대곡', '화정', '원당', '원흥', '삼송', '지축', '구파발', '연신내', '불광', '녹번', '홍제', '무악재', '독립문', '경복궁', '안국', '종로3가', '을지로3가', '충무로', '동대입구', '약수', '금호', '옥수', '압구정', '신사', '잠원', '고속터미널', '교대', '남부터미널', '양재', '매봉', '도곡', '대치', '학여울', '대청', '일원', '수서', '가락시장', '경찰병원', '오금')\n",
            "('당고개', '상계', '노원', '창동', '쌍문', '수유', '미아', '미아사거리', '길음', '성신여대입구', '한성대입구', '혜화', '동대문', '동대문역사문화공원', '충무로', '명동', '회현', '서울역', '숙대입구', '삼각지', '신용산', '이촌', '동작', '총신대입구', '사당', '남태령', '선바위', '경마공원', '대공원', '과천', '정부과천청사', '인덕원', '평촌', '범계', '금정', '산본', '수리산', '대야미', '반월', '상록수', '한대앞', '중앙', '고잔', '초지', '안산', '신길온천', '정왕', '오이도')\n"
          ],
          "name": "stdout"
        }
      ]
    },
    {
      "cell_type": "code",
      "metadata": {
        "id": "lTxdOtsoUzN0"
      },
      "source": [
        "def dispSubwayLineInfo() :\n",
        "    option1_lineNum = None\n",
        "    print(\"\\n***********************************************\")\n",
        "    print(\"Subway line information service\")\n",
        "    print(\"***********************************************\")\n",
        "     \n",
        "    while option1_lineNum not in range(1,5):\n",
        "        option1_lineNum = int(input(\">> Please enter a subway line number (1 - 4): \"))\n",
        "\n",
        "    print(subwayStation['Line'+ str(option1_lineNum)])\n",
        "    print(\"\\n\")\n",
        "\n",
        "\n",
        "def stationIsValid(stationName) :\n",
        "    isValid = False\n",
        "    for i in range(1,5):\n",
        "            if stationName in subwayStation['Line' + str(i)]:\n",
        "                isValid = True \n",
        "\n",
        "    return isValid\n",
        "\n",
        "\n",
        "def dispSubwayStationInfo() :\n",
        "    option2_stationName = None\n",
        "    isValid = False\n",
        "    count = 0\n",
        "    print(\"\\n***********************************************\")\n",
        "    print(\"Subway station information service\")\n",
        "    print(\"***********************************************\")\n",
        "   \n",
        "    while not isValid :\n",
        "        option2_stationName = input(\">> Please enter a subway station name: \")\n",
        "        isValid = stationIsValid(option2_stationName)\n",
        "            \n",
        "    print(option2_stationName, \"station is in Line\" , end = \" \")\n",
        "   \n",
        "    for i in range(1,5):\n",
        "         if option2_stationName in subwayStation['Line' + str(i)]:\n",
        "            count += 1\n",
        "            if count != 1:\n",
        "                print(\"and\", end = \" \")\n",
        "            print(i, end = \" \")\n",
        "           \n",
        "    print(\"\\n\")\n",
        "\n",
        "\n",
        "def findPath() :\n",
        "    departureIsValid = False\n",
        "    arrivalIsValid = False\n",
        "    departureInLine = []\n",
        "    arrivalInLine = []\n",
        "    sameLine = 0\n",
        "    departureIndex = 0\n",
        "    arrivalIndex = 0\n",
        "    lineTuple = ()\n",
        "    print(\"\\n***********************************************\")\n",
        "    print(\"Finding path service\")\n",
        "    print(\"***********************************************\")\n",
        "\n",
        "    while not departureIsValid :\n",
        "        option3_departure = input(\">> Please enter a departure subway station: \")\n",
        "        departureIsValid = stationIsValid(option3_departure) \n",
        "    \n",
        "    while not arrivalIsValid :\n",
        "        option3_arrival = input(\">> Please enter a arrival subway station: \")\n",
        "        arrivalIsValid = stationIsValid(option3_arrival) \n",
        "\n",
        "    print('\\n')\n",
        "\n",
        "#어느 라인에 들어있는지 확인\n",
        "    for i in range(1,5):\n",
        "        if option3_departure in subwayStation['Line' + str(i)]:\n",
        "            departureInLine.append(i)\n",
        "        if option3_arrival in subwayStation['Line' + str(i)]:\n",
        "            arrivalInLine.append(i)\n",
        "\n",
        "    \n",
        "    #같은 라인이 있는지 탐색\n",
        "    for d in range(len(departureInLine)):\n",
        "        for a in range(len(arrivalInLine)):\n",
        "            if departureInLine[d] == arrivalInLine[a]: #같은 라인이 있으면 \n",
        "                sameLine = departureInLine[d]\n",
        "                lineTuple = subwayStation['Line' + str(sameLine)]\n",
        "                departureIndex = lineTuple.index(option3_departure)\n",
        "                arrivalIndex = lineTuple.index(option3_arrival)\n",
        "\n",
        "    def printPath(line, departureIndex, arrivalIndex):\n",
        "        lineTuple = subwayStation['Line' + str(line)]\n",
        "        if departureIndex <= arrivalIndex:  #순행이면\n",
        "            print(lineTuple[departureIndex], end=' -> ')\n",
        "            print(lineTuple[departureIndex + 1 : arrivalIndex], end=' -> ')\n",
        "            print(lineTuple[arrivalIndex])\n",
        "        else:\n",
        "            print(lineTuple[departureIndex], end='->')\n",
        "            print(lineTuple[departureIndex - 1 : arrivalIndex : -1], end='->')\n",
        "            print(lineTuple[arrivalIndex])  \n",
        "        \n",
        "    \n",
        "    def findTransferStation(deLine, arLine):\n",
        "        lineTuple = subwayStation['Line' + str(deLine)]\n",
        "        \n",
        "        for i in range(len(lineTuple)):\n",
        "            if lineTuple[i] in subwayStation['Line' + str(arLine)]:\n",
        "                return lineTuple[i]\n",
        "\n",
        "\n",
        "    #둘이 같은 라인에 있다면\n",
        "    if sameLine != 0:\n",
        "        printPath(sameLine, departureIndex, arrivalIndex)\n",
        "       \n",
        "    #둘이 다른 라인에 있다면 \n",
        "    else:\n",
        "        lineTuple = subwayStation['Line' + str(departureInLine[0])]\n",
        "        departureIndex = lineTuple.index(option3_departure)\n",
        "        printPath(departureInLine[0], departureIndex, lineTuple.index(findTransferStation(departureInLine[0], arrivalInLine[0])))\n",
        "\n",
        "        lineTuple = subwayStation['Line' + str(arrivalInLine[0])]\n",
        "        arrivalIndex = lineTuple.index(option3_arrival)\n",
        "        print('[',arrivalInLine[0], '호선 환승',']' , end = ' ')\n",
        "        printPath(arrivalInLine[0],lineTuple.index(findTransferStation(departureInLine[0], arrivalInLine[0])), arrivalIndex)\n",
        "\n",
        "\n"
      ],
      "execution_count": 70,
      "outputs": []
    },
    {
      "cell_type": "code",
      "metadata": {
        "id": "yqkiDvT2gDOx",
        "outputId": "5e9daa49-843c-4a25-8802-d4c2d47fd5d4",
        "colab": {
          "base_uri": "https://localhost:8080/",
          "height": 1000
        }
      },
      "source": [
        "mainOption = None\n",
        "\n",
        "while mainOption != 4:\n",
        "    print(\"****************************************************\")\n",
        "    print(\"1. Display subway line information (Line 1 ~ 4)\")\n",
        "    print(\"2. Display subway station information\")\n",
        "    print(\"3. Find a path between two subway stations\")\n",
        "    print(\"4. Exit\")\n",
        "    print(\"****************************************************\")\n",
        "\n",
        "    while mainOption not in range(1,5):\n",
        "        mainOption = int(input(\"Please choose one of the options (1 - 4): \"))\n",
        "\n",
        "    if mainOption == 1:\n",
        "        mainOption = None\n",
        "        dispSubwayLineInfo()\n",
        "\n",
        "    elif mainOption == 2:\n",
        "        mainOption = None\n",
        "        dispSubwayStationInfo()\n",
        "\n",
        "    elif mainOption == 3:\n",
        "        mainOption = None\n",
        "        findPath()\n",
        "        "
      ],
      "execution_count": 71,
      "outputs": [
        {
          "output_type": "stream",
          "text": [
            "****************************************************\n",
            "1. Display subway line information (Line 1 ~ 4)\n",
            "2. Display subway station information\n",
            "3. Find a path between two subway stations\n",
            "4. Exit\n",
            "****************************************************\n",
            "Please choose one of the options (1 - 4): 3\n",
            "\n",
            "***********************************************\n",
            "Finding path service\n",
            "***********************************************\n",
            ">> Please enter a departure subway station: 서울역\n",
            ">> Please enter a arrival subway station: 창동\n",
            "\n",
            "\n",
            "서울역->('회현', '명동', '충무로', '동대문역사문화공원', '동대문', '혜화', '한성대입구', '성신여대입구', '길음', '미아사거리', '미아', '수유', '쌍문')->창동\n",
            "****************************************************\n",
            "1. Display subway line information (Line 1 ~ 4)\n",
            "2. Display subway station information\n",
            "3. Find a path between two subway stations\n",
            "4. Exit\n",
            "****************************************************\n",
            "Please choose one of the options (1 - 4): 3\n",
            "\n",
            "***********************************************\n",
            "Finding path service\n",
            "***********************************************\n",
            ">> Please enter a departure subway station: 서울대입구\n",
            ">> Please enter a arrival subway station: 잠실\n",
            "\n",
            "\n",
            "서울대입구 -> ('낙성대', '사당', '방배', '서초', '교대', '강남', '역삼', '선릉', '삼성', '종합운동장', '잠실새내') -> 잠실\n",
            "****************************************************\n",
            "1. Display subway line information (Line 1 ~ 4)\n",
            "2. Display subway station information\n",
            "3. Find a path between two subway stations\n",
            "4. Exit\n",
            "****************************************************\n",
            "Please choose one of the options (1 - 4): 3\n",
            "\n",
            "***********************************************\n",
            "Finding path service\n",
            "***********************************************\n",
            ">> Please enter a departure subway station: 잠실\n",
            ">> Please enter a arrival subway station: 서울대입구\n",
            "\n",
            "\n",
            "잠실->('잠실새내', '종합운동장', '삼성', '선릉', '역삼', '강남', '교대', '서초', '방배', '사당', '낙성대')->서울대입구\n",
            "****************************************************\n",
            "1. Display subway line information (Line 1 ~ 4)\n",
            "2. Display subway station information\n",
            "3. Find a path between two subway stations\n",
            "4. Exit\n",
            "****************************************************\n"
          ],
          "name": "stdout"
        },
        {
          "output_type": "error",
          "ename": "KeyboardInterrupt",
          "evalue": "ignored",
          "traceback": [
            "\u001b[0;31m---------------------------------------------------------------------------\u001b[0m",
            "\u001b[0;31mKeyboardInterrupt\u001b[0m                         Traceback (most recent call last)",
            "\u001b[0;32m/usr/local/lib/python3.6/dist-packages/ipykernel/kernelbase.py\u001b[0m in \u001b[0;36m_input_request\u001b[0;34m(self, prompt, ident, parent, password)\u001b[0m\n\u001b[1;32m    728\u001b[0m             \u001b[0;32mtry\u001b[0m\u001b[0;34m:\u001b[0m\u001b[0;34m\u001b[0m\u001b[0;34m\u001b[0m\u001b[0m\n\u001b[0;32m--> 729\u001b[0;31m                 \u001b[0mident\u001b[0m\u001b[0;34m,\u001b[0m \u001b[0mreply\u001b[0m \u001b[0;34m=\u001b[0m \u001b[0mself\u001b[0m\u001b[0;34m.\u001b[0m\u001b[0msession\u001b[0m\u001b[0;34m.\u001b[0m\u001b[0mrecv\u001b[0m\u001b[0;34m(\u001b[0m\u001b[0mself\u001b[0m\u001b[0;34m.\u001b[0m\u001b[0mstdin_socket\u001b[0m\u001b[0;34m,\u001b[0m \u001b[0;36m0\u001b[0m\u001b[0;34m)\u001b[0m\u001b[0;34m\u001b[0m\u001b[0;34m\u001b[0m\u001b[0m\n\u001b[0m\u001b[1;32m    730\u001b[0m             \u001b[0;32mexcept\u001b[0m \u001b[0mException\u001b[0m\u001b[0;34m:\u001b[0m\u001b[0;34m\u001b[0m\u001b[0;34m\u001b[0m\u001b[0m\n",
            "\u001b[0;32m/usr/local/lib/python3.6/dist-packages/jupyter_client/session.py\u001b[0m in \u001b[0;36mrecv\u001b[0;34m(self, socket, mode, content, copy)\u001b[0m\n\u001b[1;32m    802\u001b[0m         \u001b[0;32mtry\u001b[0m\u001b[0;34m:\u001b[0m\u001b[0;34m\u001b[0m\u001b[0;34m\u001b[0m\u001b[0m\n\u001b[0;32m--> 803\u001b[0;31m             \u001b[0mmsg_list\u001b[0m \u001b[0;34m=\u001b[0m \u001b[0msocket\u001b[0m\u001b[0;34m.\u001b[0m\u001b[0mrecv_multipart\u001b[0m\u001b[0;34m(\u001b[0m\u001b[0mmode\u001b[0m\u001b[0;34m,\u001b[0m \u001b[0mcopy\u001b[0m\u001b[0;34m=\u001b[0m\u001b[0mcopy\u001b[0m\u001b[0;34m)\u001b[0m\u001b[0;34m\u001b[0m\u001b[0;34m\u001b[0m\u001b[0m\n\u001b[0m\u001b[1;32m    804\u001b[0m         \u001b[0;32mexcept\u001b[0m \u001b[0mzmq\u001b[0m\u001b[0;34m.\u001b[0m\u001b[0mZMQError\u001b[0m \u001b[0;32mas\u001b[0m \u001b[0me\u001b[0m\u001b[0;34m:\u001b[0m\u001b[0;34m\u001b[0m\u001b[0;34m\u001b[0m\u001b[0m\n",
            "\u001b[0;32m/usr/local/lib/python3.6/dist-packages/zmq/sugar/socket.py\u001b[0m in \u001b[0;36mrecv_multipart\u001b[0;34m(self, flags, copy, track)\u001b[0m\n\u001b[1;32m    565\u001b[0m         \"\"\"\n\u001b[0;32m--> 566\u001b[0;31m         \u001b[0mparts\u001b[0m \u001b[0;34m=\u001b[0m \u001b[0;34m[\u001b[0m\u001b[0mself\u001b[0m\u001b[0;34m.\u001b[0m\u001b[0mrecv\u001b[0m\u001b[0;34m(\u001b[0m\u001b[0mflags\u001b[0m\u001b[0;34m,\u001b[0m \u001b[0mcopy\u001b[0m\u001b[0;34m=\u001b[0m\u001b[0mcopy\u001b[0m\u001b[0;34m,\u001b[0m \u001b[0mtrack\u001b[0m\u001b[0;34m=\u001b[0m\u001b[0mtrack\u001b[0m\u001b[0;34m)\u001b[0m\u001b[0;34m]\u001b[0m\u001b[0;34m\u001b[0m\u001b[0;34m\u001b[0m\u001b[0m\n\u001b[0m\u001b[1;32m    567\u001b[0m         \u001b[0;31m# have first part already, only loop while more to receive\u001b[0m\u001b[0;34m\u001b[0m\u001b[0;34m\u001b[0m\u001b[0;34m\u001b[0m\u001b[0m\n",
            "\u001b[0;32mzmq/backend/cython/socket.pyx\u001b[0m in \u001b[0;36mzmq.backend.cython.socket.Socket.recv\u001b[0;34m()\u001b[0m\n",
            "\u001b[0;32mzmq/backend/cython/socket.pyx\u001b[0m in \u001b[0;36mzmq.backend.cython.socket.Socket.recv\u001b[0;34m()\u001b[0m\n",
            "\u001b[0;32mzmq/backend/cython/socket.pyx\u001b[0m in \u001b[0;36mzmq.backend.cython.socket._recv_copy\u001b[0;34m()\u001b[0m\n",
            "\u001b[0;32m/usr/local/lib/python3.6/dist-packages/zmq/backend/cython/checkrc.pxd\u001b[0m in \u001b[0;36mzmq.backend.cython.checkrc._check_rc\u001b[0;34m()\u001b[0m\n",
            "\u001b[0;31mKeyboardInterrupt\u001b[0m: ",
            "\nDuring handling of the above exception, another exception occurred:\n",
            "\u001b[0;31mKeyboardInterrupt\u001b[0m                         Traceback (most recent call last)",
            "\u001b[0;32m<ipython-input-71-173427ac66db>\u001b[0m in \u001b[0;36m<module>\u001b[0;34m()\u001b[0m\n\u001b[1;32m     11\u001b[0m \u001b[0;34m\u001b[0m\u001b[0m\n\u001b[1;32m     12\u001b[0m     \u001b[0;32mwhile\u001b[0m \u001b[0mmainOption\u001b[0m \u001b[0;32mnot\u001b[0m \u001b[0;32min\u001b[0m \u001b[0mrange\u001b[0m\u001b[0;34m(\u001b[0m\u001b[0;36m1\u001b[0m\u001b[0;34m,\u001b[0m\u001b[0;36m5\u001b[0m\u001b[0;34m)\u001b[0m\u001b[0;34m:\u001b[0m\u001b[0;34m\u001b[0m\u001b[0;34m\u001b[0m\u001b[0m\n\u001b[0;32m---> 13\u001b[0;31m         \u001b[0mmainOption\u001b[0m \u001b[0;34m=\u001b[0m \u001b[0mint\u001b[0m\u001b[0;34m(\u001b[0m\u001b[0minput\u001b[0m\u001b[0;34m(\u001b[0m\u001b[0;34m\"Please choose one of the options (1 - 4): \"\u001b[0m\u001b[0;34m)\u001b[0m\u001b[0;34m)\u001b[0m\u001b[0;34m\u001b[0m\u001b[0;34m\u001b[0m\u001b[0m\n\u001b[0m\u001b[1;32m     14\u001b[0m \u001b[0;34m\u001b[0m\u001b[0m\n\u001b[1;32m     15\u001b[0m     \u001b[0;32mif\u001b[0m \u001b[0mmainOption\u001b[0m \u001b[0;34m==\u001b[0m \u001b[0;36m1\u001b[0m\u001b[0;34m:\u001b[0m\u001b[0;34m\u001b[0m\u001b[0;34m\u001b[0m\u001b[0m\n",
            "\u001b[0;32m/usr/local/lib/python3.6/dist-packages/ipykernel/kernelbase.py\u001b[0m in \u001b[0;36mraw_input\u001b[0;34m(self, prompt)\u001b[0m\n\u001b[1;32m    702\u001b[0m             \u001b[0mself\u001b[0m\u001b[0;34m.\u001b[0m\u001b[0m_parent_ident\u001b[0m\u001b[0;34m,\u001b[0m\u001b[0;34m\u001b[0m\u001b[0;34m\u001b[0m\u001b[0m\n\u001b[1;32m    703\u001b[0m             \u001b[0mself\u001b[0m\u001b[0;34m.\u001b[0m\u001b[0m_parent_header\u001b[0m\u001b[0;34m,\u001b[0m\u001b[0;34m\u001b[0m\u001b[0;34m\u001b[0m\u001b[0m\n\u001b[0;32m--> 704\u001b[0;31m             \u001b[0mpassword\u001b[0m\u001b[0;34m=\u001b[0m\u001b[0;32mFalse\u001b[0m\u001b[0;34m,\u001b[0m\u001b[0;34m\u001b[0m\u001b[0;34m\u001b[0m\u001b[0m\n\u001b[0m\u001b[1;32m    705\u001b[0m         )\n\u001b[1;32m    706\u001b[0m \u001b[0;34m\u001b[0m\u001b[0m\n",
            "\u001b[0;32m/usr/local/lib/python3.6/dist-packages/ipykernel/kernelbase.py\u001b[0m in \u001b[0;36m_input_request\u001b[0;34m(self, prompt, ident, parent, password)\u001b[0m\n\u001b[1;32m    732\u001b[0m             \u001b[0;32mexcept\u001b[0m \u001b[0mKeyboardInterrupt\u001b[0m\u001b[0;34m:\u001b[0m\u001b[0;34m\u001b[0m\u001b[0;34m\u001b[0m\u001b[0m\n\u001b[1;32m    733\u001b[0m                 \u001b[0;31m# re-raise KeyboardInterrupt, to truncate traceback\u001b[0m\u001b[0;34m\u001b[0m\u001b[0;34m\u001b[0m\u001b[0;34m\u001b[0m\u001b[0m\n\u001b[0;32m--> 734\u001b[0;31m                 \u001b[0;32mraise\u001b[0m \u001b[0mKeyboardInterrupt\u001b[0m\u001b[0;34m\u001b[0m\u001b[0;34m\u001b[0m\u001b[0m\n\u001b[0m\u001b[1;32m    735\u001b[0m             \u001b[0;32melse\u001b[0m\u001b[0;34m:\u001b[0m\u001b[0;34m\u001b[0m\u001b[0;34m\u001b[0m\u001b[0m\n\u001b[1;32m    736\u001b[0m                 \u001b[0;32mbreak\u001b[0m\u001b[0;34m\u001b[0m\u001b[0;34m\u001b[0m\u001b[0m\n",
            "\u001b[0;31mKeyboardInterrupt\u001b[0m: "
          ]
        }
      ]
    },
    {
      "cell_type": "markdown",
      "metadata": {
        "id": "KR5Ihan6qa1g"
      },
      "source": [
        ""
      ]
    }
  ]
}