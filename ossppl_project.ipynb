{
  "nbformat": 4,
  "nbformat_minor": 0,
  "metadata": {
    "colab": {
      "name": "ossppl_project_template.ipynb",
      "provenance": [],
      "collapsed_sections": [
        "NUD-hySm_uPc"
      ]
    },
    "kernelspec": {
      "name": "python3",
      "display_name": "Python 3"
    }
  },
  "cells": [
    {
      "cell_type": "markdown",
      "metadata": {
        "id": "NUD-hySm_uPc"
      },
      "source": [
        "# **Open Source SW and Python Programming Project: Implementation of Subway Navigation**\n",
        "\n",
        "In this project, you will implement a navigation system for Seoul subway stations, especially **step by step**\n",
        "\n",
        "\n"
      ]
    },
    {
      "cell_type": "markdown",
      "metadata": {
        "id": "uUsnepoeAhVl"
      },
      "source": [
        "# 0. Initialization\n",
        "\n",
        "Read subway station information by reading the file **simplified_subway_info_english.xlsx** or **simplified_subway_info_korean.xlsx**\n",
        "*  The excel file contains subway station information of Seoul subway line 1 ~ 4\n",
        "*  When you execute this sourcecode, you MUST upload these files in your Colab runtime environment\n",
        "*   **MUST NOT** change this code cell"
      ]
    },
    {
      "cell_type": "code",
      "metadata": {
        "id": "qnbOlA6o_mIl"
      },
      "source": [
        "import xlrd\n",
        "\n",
        "# Read data file\n",
        "data = xlrd.open_workbook(\"simplified_subway_info_korean.xlsx\")\n",
        "data = data.sheet_by_name('Sheet1')\n",
        "\n",
        "# Store the loaded book object as a string list in subwayStation variable\n",
        "subwayStation = []\n",
        "for line in range(4) :\n",
        "    cur = [x for x in data.col_values(line) if x]    \n",
        "    subwayStation.append(cur[1:])"
      ],
      "execution_count": 243,
      "outputs": []
    },
    {
      "cell_type": "markdown",
      "metadata": {
        "id": "DBXU61Tn_vKS"
      },
      "source": [
        "# 1. Your implementation\n",
        "Let's start the implementation of a subway naviation system by using the loaded subway station information :)\n",
        "\n",
        "*   You can access the subway station information by referring to **subwayStation** variable (list type)"
      ]
    },
    {
      "cell_type": "code",
      "metadata": {
        "id": "-m5K2Ds-P2mr"
      },
      "source": [
        "subwayStation = {'Line1':tuple((subwayStation[0])),'Line2':tuple((subwayStation[1])),'Line3':tuple((subwayStation[2])),'Line4':tuple((subwayStation[3]))}\n",
        "for key in subwayStation.keys() :\n",
        "    print(key)\n",
        "for value in subwayStation.values() :\n",
        "    print(value)"
      ],
      "execution_count": null,
      "outputs": []
    },
    {
      "cell_type": "code",
      "metadata": {
        "id": "lTxdOtsoUzN0"
      },
      "source": [
        "def dispSubwayLineInfo() :\n",
        "    option1_lineNum = None\n",
        "    print(\"\\n***********************************************\")\n",
        "    print(\"Subway line information service\")\n",
        "    print(\"***********************************************\")\n",
        "     \n",
        "    while option1_lineNum not in range(1,5):\n",
        "        option1_lineNum = int(input(\">> Please enter a subway line number (1 - 4): \"))\n",
        "\n",
        "    print(subwayStation['Line'+ str(option1_lineNum)])\n",
        "    print(\"\\n\")\n",
        "\n",
        "\n",
        "def stationIsValid(stationName) :\n",
        "    isValid = False\n",
        "    for i in range(1,5):\n",
        "            if stationName in subwayStation['Line' + str(i)]:\n",
        "                isValid = True \n",
        "\n",
        "    return isValid\n",
        "\n",
        "\n",
        "def dispSubwayStationInfo() :\n",
        "    option2_stationName = None\n",
        "    isValid = False\n",
        "    count = 0\n",
        "    print(\"\\n***********************************************\")\n",
        "    print(\"Subway station information service\")\n",
        "    print(\"***********************************************\")\n",
        "   \n",
        "    while not isValid :\n",
        "        option2_stationName = input(\">> Please enter a subway station name: \")\n",
        "        isValid = stationIsValid(option2_stationName)\n",
        "            \n",
        "    print(option2_stationName, \"station is in Line\" , end = \" \")\n",
        "   \n",
        "    for i in range(1,5):\n",
        "         if option2_stationName in subwayStation['Line' + str(i)]:\n",
        "            count += 1\n",
        "            if count != 1:\n",
        "                print(\"and\", end = \" \")\n",
        "            print(i, end = \" \")\n",
        "           \n",
        "    print(\"\\n\")\n",
        "\n",
        "\n",
        "def findPath() :\n",
        "    departureIsValid = False\n",
        "    arrivalIsValid = False\n",
        "    departureInLine = []\n",
        "    arrivalInLine = []\n",
        "    sameLine = 0\n",
        "    departureIndex = 0\n",
        "    arrivalIndex = 0\n",
        "    lineTuple = ()\n",
        "    print(\"\\n***********************************************\")\n",
        "    print(\"Finding path service\")\n",
        "    print(\"***********************************************\")\n",
        "    \n",
        "    while not departureIsValid :\n",
        "        option3_departure = input(\">> Please enter a departure subway station: \")\n",
        "        departureIsValid = stationIsValid(option3_departure) \n",
        "    \n",
        "    while not arrivalIsValid :\n",
        "        option3_arrival = input(\">> Please enter a arrival subway station: \")\n",
        "        arrivalIsValid = stationIsValid(option3_arrival) \n",
        "\n",
        "#어느 라인에 들어있는지 확인\n",
        "    for i in range(1,5):\n",
        "        if option3_departure in subwayStation['Line' + str(i)]:\n",
        "            departureInLine.append(i)\n",
        "        if option3_arrival in subwayStation['Line' + str(i)]:\n",
        "            arrivalInLine.append(i)\n",
        "\n",
        "    \n",
        "    #둘이 같은 라인에 있다면\n",
        "    for d in range(len(departureInLine)):\n",
        "        for a in range(len(arrivalInLine)):\n",
        "            if departureInLine[d] == arrivalInLine[a]: #같은 라인이 있으면 \n",
        "                sameLine = d + 1\n",
        "                lineTuple = subwaySation['Line' + str(sameLine)]\n",
        "                departureIndex = lineTuple.index(option3_departure)\n",
        "                arrivalIndex = lineTuple.index(option3_arrival)\n",
        "    \n",
        "    if departureIndex <= arrivalIndex:  #순행이면\n",
        "        print(lineTuple[departureIndex], end=' -> ')\n",
        "        print(lineTuple[departureIndex + 1 : arrivalIndex], end=' -> ')\n",
        "        print(lineTuple[arrivalIndex])\n",
        "            \n",
        "    else:\n",
        "        print(lineTuple[departureIndex], end='->')\n",
        "        print(lineTuple[departureIndex - 1 : arrivalIndex : -1], end='->')\n",
        "        print(lineTuple[arrivalIndex])\n",
        "\n",
        "    \n"
      ],
      "execution_count": 245,
      "outputs": []
    },
    {
      "cell_type": "code",
      "metadata": {
        "id": "yqkiDvT2gDOx"
      },
      "source": [
        "mainOption = None\n",
        "\n",
        "while mainOption != 4:\n",
        "    print(\"****************************************************\")\n",
        "    print(\"1. Display subway line information (Line 1 ~ 4)\")\n",
        "    print(\"2. Display subway station information\")\n",
        "    print(\"3. Find a path between two subway stations\")\n",
        "    print(\"4. Exit\")\n",
        "    print(\"****************************************************\")\n",
        "\n",
        "    while mainOption not in range(1,5):\n",
        "        mainOption = int(input(\"Please choose one of the options (1 - 4): \"))\n",
        "\n",
        "    if mainOption == 1:\n",
        "        mainOption = None\n",
        "        dispSubwayLineInfo()\n",
        "\n",
        "    elif mainOption == 2:\n",
        "        mainOption = None\n",
        "        dispSubwayStationInfo()\n",
        "\n",
        "    elif mainOption == 3:\n",
        "        mainOption = None\n",
        "        findPath()\n",
        "        "
      ],
      "execution_count": null,
      "outputs": []
    }
  ]
}