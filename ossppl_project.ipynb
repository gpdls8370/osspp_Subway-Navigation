{
  "nbformat": 4,
  "nbformat_minor": 0,
  "metadata": {
    "colab": {
      "name": "ossppl_project_template.ipynb",
      "provenance": [],
      "collapsed_sections": [
        "NUD-hySm_uPc"
      ]
    },
    "kernelspec": {
      "name": "python3",
      "display_name": "Python 3"
    }
  },
  "cells": [
    {
      "cell_type": "markdown",
      "metadata": {
        "id": "NUD-hySm_uPc"
      },
      "source": [
        "# **Open Source SW and Python Programming Project: Implementation of Subway Navigation**\n",
        "\n",
        "In this project, you will implement a navigation system for Seoul subway stations, especially **step by step**\n",
        "\n",
        "\n"
      ]
    },
    {
      "cell_type": "markdown",
      "metadata": {
        "id": "uUsnepoeAhVl"
      },
      "source": [
        "# 0. Initialization\n",
        "\n",
        "Read subway station information by reading the file **simplified_subway_info_english.xlsx** or **simplified_subway_info_korean.xlsx**\n",
        "*  The excel file contains subway station information of Seoul subway line 1 ~ 4\n",
        "*  When you execute this sourcecode, you MUST upload these files in your Colab runtime environment\n",
        "*   **MUST NOT** change this code cell"
      ]
    },
    {
      "cell_type": "code",
      "metadata": {
        "id": "qnbOlA6o_mIl"
      },
      "source": [
        "import xlrd\n",
        "\n",
        "# Read data file\n",
        "data = xlrd.open_workbook(\"simplified_subway_info_korean.xlsx\")\n",
        "data = data.sheet_by_name('Sheet1')\n",
        "\n",
        "# Store the loaded book object as a string list in subwayStation variable\n",
        "subwayStation = []\n",
        "for line in range(4) :\n",
        "    cur = [x for x in data.col_values(line) if x]    \n",
        "    subwayStation.append(cur[1:])"
      ],
      "execution_count": 3,
      "outputs": []
    },
    {
      "cell_type": "markdown",
      "metadata": {
        "id": "DBXU61Tn_vKS"
      },
      "source": [
        "# 1. Your implementation\n",
        "Let's start the implementation of a subway naviation system by using the loaded subway station information :)\n",
        "\n",
        "*   You can access the subway station information by referring to **subwayStation** variable (list type)"
      ]
    },
    {
      "cell_type": "code",
      "metadata": {
        "id": "yqkiDvT2gDOx"
      },
      "source": [
        "mainOption = None\n",
        "\n",
        "while mainOption != 3:\n",
        "    print(\"****************************************************\")\n",
        "    print(\"1. Display subway line information (Line 1 ~ 4)\")\n",
        "    print(\"2. Display subway station information\")\n",
        "    print(\"3. Exit\")\n",
        "    print(\"****************************************************\")\n",
        "\n",
        "    while mainOption not in range(1,4):\n",
        "        mainOption = int(input(\"Please choose one of the options (1 - 3): \"))\n",
        "\n",
        "    if mainOption == 1:\n",
        "        mainOption = None\n",
        "        option1_lineNum = None\n",
        "        print(\"\\n***********************************************\")\n",
        "        print(\"Subway line information service\")\n",
        "        print(\"***********************************************\")\n",
        "\n",
        "        while option1_lineNum not in range(1,5):\n",
        "            option1_lineNum = int(input(\">> Please enter a subway line number (1 - 4): \"))\n",
        "\n",
        "        print(subwayStation[option1_lineNum - 1])\n",
        "        print(\"\\n\")\n",
        "\n",
        "    elif mainOption == 2:\n",
        "        mainOption = None\n",
        "        option2_stationName = None\n",
        "        isValid = False\n",
        "        count = 0\n",
        "        print(\"\\n***********************************************\")\n",
        "        print(\"Subway station information service\")\n",
        "        print(\"***********************************************\")\n",
        "\n",
        "        while not isValid :\n",
        "            option2_stationName = input(\">> Please enter a subway station name: \")\n",
        "            for i in range(4):\n",
        "                if option2_stationName in subwayStation[i]:\n",
        "                    isValid = True\n",
        "                    \n",
        "\n",
        "        print(option2_stationName, \"station is in Line\" , end = \" \")\n",
        "        for i in range(4):\n",
        "            if option2_stationName in subwayStation[i]:\n",
        "                count += 1\n",
        "                if count != 1:\n",
        "                    print(\"and\", end = \" \")\n",
        "                print(i + 1, end = \" \")\n",
        "\n",
        "        print(\"\\n\")\n",
        "\n"
      ],
      "execution_count": null,
      "outputs": []
    }
  ]
}